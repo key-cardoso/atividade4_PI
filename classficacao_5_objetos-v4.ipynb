{
 "cells": [
  {
   "cell_type": "code",
   "execution_count": null,
   "id": "97e9562e",
   "metadata": {},
   "outputs": [
    {
     "name": "stdout",
     "output_type": "stream",
     "text": [
      "Falha ao capturar imagem da câmera.\n"
     ]
    }
   ],
   "source": [
    "from keras.models import load_model  # TensorFlow é necessário para o Keras funcionar\n",
    "import cv2  # Instalar opencv-python\n",
    "import numpy as np\n",
    "\n",
    "# Desabilitar notação científica para clareza\n",
    "np.set_printoptions(suppress=True)\n",
    "\n",
    "# Carregar o modelo-\n",
    "model = load_model(\"keras.model.h5\", compile=False)\n",
    "\n",
    "# Carregar os rótulos (labels)\n",
    "class_names = open(\"labels.txt\", \"r\").readlines()\n",
    "\n",
    "# A CÂMERA pode ser 0 ou 1, dependendo da câmera padrão do seu computador\n",
    "camera = cv2.VideoCapture(0)\n",
    "\n",
    "# Definir o nome da janela e o tamanho desejado para a janela\n",
    "window_name = \"Imagem da Webcam\"\n",
    "cv2.namedWindow(window_name, cv2.WINDOW_NORMAL)  # Permite redimensionar a janela\n",
    "cv2.resizeWindow(window_name, 640, 480)  # Ajuste o tamanho da janela aqui (por exemplo, 640x480)\n",
    "\n",
    "while True:\n",
    "    # Capturar a imagem da webcam\n",
    "    ret, image = camera.read()\n",
    "\n",
    "    # Verificar se a captura foi bem-sucedida\n",
    "    if not ret:\n",
    "        print(\"Falha ao capturar imagem da câmera.\")\n",
    "        break\n",
    "\n",
    "    # Redimensionar a imagem para (224x224) para o modelo\n",
    "    resized_image = cv2.resize(image, (224, 224), interpolation=cv2.INTER_AREA)\n",
    "\n",
    "    # Transformar a imagem em um array numpy e redimensioná-la para o formato de entrada do modelo\n",
    "    input_image = np.asarray(resized_image, dtype=np.float32).reshape(1, 224, 224, 3)\n",
    "\n",
    "    # Normalizar o array da imagem\n",
    "    input_image = (input_image / 127.5) - 1\n",
    "\n",
    "    # Fazer a previsão com o modelo\n",
    "    prediction = model.predict(input_image)\n",
    "    index = np.argmax(prediction)\n",
    "    class_name = class_names[index].strip()  # Remover qualquer newline extra do rótulo\n",
    "    confidence_score = prediction[0][index]\n",
    "\n",
    "    # Exibir a classe e a pontuação de confiança na imagem\n",
    "    label = f\"{class_name}: {np.round(confidence_score * 100, 2)}%\"\n",
    "\n",
    "    # Desenhar um retângulo em toda a imagem (simulação de detecção de objeto)\n",
    "    height, width, _ = image.shape\n",
    "    cv2.rectangle(image, (10, 10), (width - 10, height - 10), (0, 255, 0), 2)\n",
    "\n",
    "    # Adicionar o texto com o rótulo na imagem\n",
    "    cv2.putText(image, label, (20, 30), cv2.FONT_HERSHEY_SIMPLEX, 0.8, (255, 255, 255), 2)\n",
    "\n",
    "    # Mostrar a imagem com o rótulo na janela\n",
    "    cv2.imshow(window_name, image)\n",
    "\n",
    "    # Ouvir o teclado para teclas pressionadas\n",
    "    keyboard_input = cv2.waitKey(1)\n",
    "\n",
    "    # 27 é o código ASCII para a tecla ESC no teclado\n",
    "    if keyboard_input == 27:\n",
    "        break\n",
    "\n",
    "# Liberar a câmera e fechar as janelas\n",
    "camera.release()\n",
    "cv2.destroyAllWindows()\n"
   ]
  },
  {
   "cell_type": "code",
   "execution_count": null,
   "id": "d6248c89",
   "metadata": {},
   "outputs": [],
   "source": []
  },
  {
   "cell_type": "code",
   "execution_count": null,
   "id": "38f8914f",
   "metadata": {},
   "outputs": [],
   "source": []
  }
 ],
 "metadata": {
  "kernelspec": {
   "display_name": "env_teste_PI_20241",
   "language": "python",
   "name": "python3"
  },
  "language_info": {
   "codemirror_mode": {
    "name": "ipython",
    "version": 3
   },
   "file_extension": ".py",
   "mimetype": "text/x-python",
   "name": "python",
   "nbconvert_exporter": "python",
   "pygments_lexer": "ipython3",
   "version": "3.10.13"
  }
 },
 "nbformat": 4,
 "nbformat_minor": 5
}
